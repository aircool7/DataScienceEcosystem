{
 "cells": [
  {
   "cell_type": "markdown",
   "id": "9b20542d-cd58-4ba7-8d2c-f5dbcf1f9b1c",
   "metadata": {},
   "source": [
    "# Data Science Tools and Ecosystems"
   ]
  },
  {
   "cell_type": "markdown",
   "id": "355a5745-533b-41c1-92a0-1ca30a0cc91b",
   "metadata": {},
   "source": [
    "In this notebook, Data Science Tools and Ecosystems are summarized."
   ]
  },
  {
   "cell_type": "markdown",
   "id": "27fe6186-4dd8-4a6c-9659-951950dd2f4f",
   "metadata": {},
   "source": [
    "Some of the most popular languages that Data Scientists use are:\n",
    "1. Python\n",
    "2. SQL\n",
    "3. R\n",
    "4. Scala"
   ]
  },
  {
   "cell_type": "markdown",
   "id": "4422b292-5da2-45ca-b11e-764139ab2668",
   "metadata": {},
   "source": [
    "Some of the commonly used libraries used by Data Scientists include:\n",
    "1. Scikit\n",
    "2. NumPy\n",
    "3. Pandas\n",
    "4. PythonTorch\n",
    "5. Apache Spark"
   ]
  },
  {
   "cell_type": "markdown",
   "id": "7d64a648-1feb-43ea-a3d9-d080546d52b7",
   "metadata": {},
   "source": [
    "Data Science Tools\n",
    "| Data Science Tools |\n",
    "| ----------------- |\n",
    "| RStudio |\n",
    "| GitHub |\n",
    "| GitLab |"
   ]
  },
  {
   "cell_type": "markdown",
   "id": "ae052276-9734-47c6-a199-1237f7121a03",
   "metadata": {},
   "source": [
    "### Below are a few examples of evaluating arithmetic expressions in Python"
   ]
  },
  {
   "cell_type": "code",
   "execution_count": 22,
   "id": "1f82b4e5-b181-40a8-92b0-d001a259aedf",
   "metadata": {},
   "outputs": [
    {
     "data": {
      "text/plain": [
       "17"
      ]
     },
     "execution_count": 22,
     "metadata": {},
     "output_type": "execute_result"
    }
   ],
   "source": [
    "#This is a simple arithmetic expression to multiply and add integers\n",
    "(3*4)+5"
   ]
  },
  {
   "cell_type": "code",
   "execution_count": 50,
   "id": "e4603b6d-031b-4563-8355-6c4e98bcd662",
   "metadata": {},
   "outputs": [
    {
     "data": {
      "text/plain": [
       "3.3333333333333335"
      ]
     },
     "execution_count": 50,
     "metadata": {},
     "output_type": "execute_result"
    }
   ],
   "source": [
    "# This will convert 200 minutes to hours by dividing by 60\n",
    "(200/60)"
   ]
  },
  {
   "cell_type": "markdown",
   "id": "1f0798cb-faef-4430-ba73-4587e5ce0647",
   "metadata": {},
   "source": [
    "**Objectives:**"
   ]
  },
  {
   "cell_type": "markdown",
   "id": "c64c381c-a301-4381-bdca-53a0760d488b",
   "metadata": {},
   "source": [
    "- List popular languages for Data Science\n",
    "- List commonly used libraries for Data Scientists\n",
    "- List commonly used tools for Data Scientists"
   ]
  },
  {
   "cell_type": "markdown",
   "id": "f1363dc2-64c4-4b04-b063-ebe60290e86d",
   "metadata": {},
   "source": [
    "## Author\n",
    "Axel Gonzalez"
   ]
  }
 ],
 "metadata": {
  "kernelspec": {
   "display_name": "Python 3 (ipykernel)",
   "language": "python",
   "name": "python3"
  },
  "language_info": {
   "codemirror_mode": {
    "name": "ipython",
    "version": 3
   },
   "file_extension": ".py",
   "mimetype": "text/x-python",
   "name": "python",
   "nbconvert_exporter": "python",
   "pygments_lexer": "ipython3",
   "version": "3.12.4"
  }
 },
 "nbformat": 4,
 "nbformat_minor": 5
}
